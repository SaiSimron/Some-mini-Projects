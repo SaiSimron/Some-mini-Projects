{
 "cells": [
  {
   "cell_type": "code",
   "execution_count": 1,
   "id": "415435c6",
   "metadata": {},
   "outputs": [
    {
     "name": "stdout",
     "output_type": "stream",
     "text": [
      "pygame 2.1.2 (SDL 2.0.18, Python 3.9.12)\n",
      "Hello from the pygame community. https://www.pygame.org/contribute.html\n"
     ]
    }
   ],
   "source": [
    "# pip install pygame\n",
    "\n",
    "#This program shows the simulation of 5 balls bouncing under gravitational acceleration.\n",
    "#It is also accompanied by eleastic collission with walls of the container.\n",
    "#It is fun to watch.\n",
    "import pygame,time,random\n",
    "\n",
    "pygame.init()\n",
    "\n",
    "#setting screen size of pygame window to 800 by 600 pixels\n",
    "screen=pygame.display.set_mode((800,600))\n",
    "background=pygame.image.load('background-img.jpg')\n",
    "\n",
    "#Adding title\n",
    "pygame.display.set_caption('Ball Bounce Simulation')\n",
    "\n",
    "class ball:\n",
    "    ball_image=pygame.image.load('C:\\\\Users\\\\iasms\\\\Desktop\\\\My Projects\\\\ball.png')\n",
    "    g=1\n",
    "    def __init__(self):\n",
    "        self.velocityX=4\n",
    "        self.velocityY=4\n",
    "        self.X=random.randint(0,768)\n",
    "        self.Y=random.randint(0,350)\n",
    "\n",
    "    def render_ball(self):\n",
    "        screen.blit(ball.ball_image, (self.X,self.Y))\n",
    "    def move_ball(self):\n",
    "        #changing y component of velocity due to downward acceleration\n",
    "        self.velocityY+=ball.g\n",
    "        #changing position based on velocity\n",
    "        self.X+=self.velocityX\n",
    "        self.Y+=self.velocityY\n",
    "        #collission with the walls lead to change in velocity\n",
    "        if self.X<0 or self.X>768:\n",
    "            self.velocityX*=-1\n",
    "        if self.Y<0 and self.velocityY<0:\n",
    "            self.velocityY*=-1\n",
    "            self.Y=0\n",
    "        if self.Y>568 and self.velocityY>0:\n",
    "            self.velocityY*=-1\n",
    "            self.Y=568\n",
    "#list of balls created as objects\n",
    "Ball_List=[ball(),ball(), ball(), ball(), ball()]\n",
    "\n",
    "#The main program loop\n",
    "running=True\n",
    "while running:\n",
    "    for event in pygame.event.get():\n",
    "        if event.type == pygame.QUIT:\n",
    "            running=False\n",
    "    \n",
    "    time.sleep(0.02)\n",
    "    screen.blit(background, (0,0))\n",
    "    for ball_item in Ball_List:\n",
    "        ball_item.render_ball()\n",
    "        ball_item.move_ball()\n",
    "    pygame.display.update()"
   ]
  },
  {
   "cell_type": "code",
   "execution_count": null,
   "id": "c9eab02a",
   "metadata": {},
   "outputs": [],
   "source": []
  }
 ],
 "metadata": {
  "kernelspec": {
   "display_name": "Python 3 (ipykernel)",
   "language": "python",
   "name": "python3"
  },
  "language_info": {
   "codemirror_mode": {
    "name": "ipython",
    "version": 3
   },
   "file_extension": ".py",
   "mimetype": "text/x-python",
   "name": "python",
   "nbconvert_exporter": "python",
   "pygments_lexer": "ipython3",
   "version": "3.9.12"
  }
 },
 "nbformat": 4,
 "nbformat_minor": 5
}
