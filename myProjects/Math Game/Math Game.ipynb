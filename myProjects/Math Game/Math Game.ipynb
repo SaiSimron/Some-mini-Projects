{
 "cells": [
  {
   "cell_type": "code",
   "execution_count": 1,
   "id": "2cc00dd6",
   "metadata": {},
   "outputs": [
    {
     "name": "stdout",
     "output_type": "stream",
     "text": [
      "What is 2 - 7\n",
      "Enter you answer: -5\n",
      "Correct !\n",
      "What is 5 - 4\n",
      "Enter you answer: 1\n",
      "Correct !\n",
      "What is 1 / 2\n",
      "Enter you answer: 0.5\n",
      "Correct !\n",
      "What is 2 + 4\n",
      "Enter you answer: 6\n",
      "Correct !\n",
      "What is 6 / 1\n",
      "Enter you answer: 2\n",
      "Incorrect\n",
      "======== Game Over ========\n",
      "You score is 4\n",
      "Kepp going!\n"
     ]
    }
   ],
   "source": [
    "import random\n",
    "import operator\n",
    "\n",
    "def random_problem():\n",
    "    operators = {\n",
    "        '+': operator.add,\n",
    "        '-': operator.sub,\n",
    "        '*': operator.mul,\n",
    "        '/': operator.truediv,\n",
    "    }\n",
    "\n",
    "    num_1 = random.randint(1, 10)\n",
    "    num_2 = random.randint(1, 10)\n",
    "    operation = random.choice(list(operators.keys()))\n",
    "    answer = operators.get(operation)(num_1, num_2)\n",
    "    print(f'What is {num_1} {operation} {num_2}')\n",
    "    return answer\n",
    "\n",
    "def ask_question():\n",
    "    answer = random_problem()\n",
    "    guess = float(input('Enter you answer: '))\n",
    "    return guess == answer\n",
    "\n",
    "def game():\n",
    "    score = 0\n",
    "    while True:\n",
    "        if ask_question() == True:\n",
    "            score += 1\n",
    "            print('Correct !')\n",
    "        else:\n",
    "            print('Incorrect')\n",
    "            break\n",
    "    print(f'======== Game Over ========\\nYou score is {score}\\nKepp going!')\n",
    "\n",
    "game()"
   ]
  },
  {
   "cell_type": "code",
   "execution_count": null,
   "id": "58bb14e2",
   "metadata": {},
   "outputs": [],
   "source": []
  }
 ],
 "metadata": {
  "kernelspec": {
   "display_name": "Python 3 (ipykernel)",
   "language": "python",
   "name": "python3"
  },
  "language_info": {
   "codemirror_mode": {
    "name": "ipython",
    "version": 3
   },
   "file_extension": ".py",
   "mimetype": "text/x-python",
   "name": "python",
   "nbconvert_exporter": "python",
   "pygments_lexer": "ipython3",
   "version": "3.9.12"
  }
 },
 "nbformat": 4,
 "nbformat_minor": 5
}
