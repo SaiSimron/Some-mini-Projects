{
 "cells": [
  {
   "cell_type": "code",
   "execution_count": 1,
   "id": "e73b10d7",
   "metadata": {},
   "outputs": [],
   "source": [
    "import tkinter as tk\n",
    "from time import strftime\n",
    "\n",
    "\n",
    "def light_theme():\n",
    "    frame = tk.Frame(root, bg=\"white\")\n",
    "    frame.place(relx=0.1, rely=0.1, relwidth=0.8, relheight=0.8)\n",
    "    lbl_1 = tk.Label(frame, font=('calibri', 40, 'bold'),\n",
    "                     background='White', foreground='black')\n",
    "    lbl_1.pack(anchor=\"s\")\n",
    "\n",
    "    def time():\n",
    "        string = strftime('%I:%M:%S %p')\n",
    "        lbl_1.config(text=string)\n",
    "        lbl_1.after(1000, time)\n",
    "    time()\n",
    "\n",
    "\n",
    "def dark_theme():\n",
    "    frame = tk.Frame(root, bg=\"#22478a\")\n",
    "    frame.place(relx=0.1, rely=0.1, relwidth=0.8, relheight=0.8)\n",
    "    lbl_2 = tk.Label(frame, font=('calibri', 40, 'bold'),\n",
    "                     background='#22478a', foreground='black')\n",
    "    lbl_2.pack(anchor=\"s\")\n",
    "\n",
    "    def time():\n",
    "        string = strftime('%I:%M:%S %p')\n",
    "        lbl_2.config(text=string)\n",
    "        lbl_2.after(1000, time)\n",
    "    time()\n",
    "\n",
    "\n",
    "root = tk.Tk()\n",
    "root.title(\"Digital-Clock\")\n",
    "canvas = tk.Canvas(root, height=140, width=400)\n",
    "canvas.pack()\n",
    "\n",
    "frame = tk.Frame(root, bg='#22478a')\n",
    "frame.place(relx=0.1, rely=0.1, relwidth=0.8, relheight=0.8)\n",
    "lbl = tk.Label(frame, font=('calibri', 40, 'bold'),\n",
    "                     background='#22478a', foreground='black')\n",
    "lbl.pack(anchor=\"s\")\n",
    "\n",
    "def time():\n",
    "    string = strftime('%I:%M:%S %p')\n",
    "    lbl.config(text=string)\n",
    "    lbl.after(1000, time)\n",
    "time()\n",
    "\n",
    "menubar = tk.Menu(root)\n",
    "theme_menu = tk.Menu(menubar, tearoff=0)\n",
    "theme_menu.add_command(label=\"Light\", command=light_theme)\n",
    "theme_menu.add_command(label=\"Dark\", command=dark_theme)\n",
    "menubar.add_cascade(label=\"Theme\", menu=theme_menu)\n",
    "root.config(menu=menubar)\n",
    "root.mainloop()"
   ]
  },
  {
   "cell_type": "code",
   "execution_count": null,
   "id": "b35f2647",
   "metadata": {},
   "outputs": [],
   "source": []
  }
 ],
 "metadata": {
  "kernelspec": {
   "display_name": "Python 3 (ipykernel)",
   "language": "python",
   "name": "python3"
  },
  "language_info": {
   "codemirror_mode": {
    "name": "ipython",
    "version": 3
   },
   "file_extension": ".py",
   "mimetype": "text/x-python",
   "name": "python",
   "nbconvert_exporter": "python",
   "pygments_lexer": "ipython3",
   "version": "3.9.12"
  }
 },
 "nbformat": 4,
 "nbformat_minor": 5
}
